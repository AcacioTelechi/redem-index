{
 "cells": [
  {
   "cell_type": "code",
   "execution_count": 1,
   "metadata": {},
   "outputs": [],
   "source": [
    "import pandas as pd"
   ]
  },
  {
   "cell_type": "code",
   "execution_count": 2,
   "metadata": {},
   "outputs": [
    {
     "name": "stderr",
     "output_type": "stream",
     "text": [
      "C:\\Users\\caca_\\AppData\\Local\\Temp\\ipykernel_7788\\1141340555.py:13: DtypeWarning: Columns (12) have mixed types. Specify dtype option on import or set low_memory=False.\n",
      "  df_pareceres_detalhes = pd.read_csv(data_folder + \"df_pareceres_detalhes.csv\")\n"
     ]
    }
   ],
   "source": [
    "data_folder = \"./data/\"\n",
    "\n",
    "df_legislaturas = pd.read_csv(data_folder + \"df_legislaturas.csv\")\n",
    "df_parlamentares_por_legislatura = pd.read_csv(\n",
    "    data_folder + \"df_parlamentares_por_legislatura.csv\"\n",
    ")\n",
    "df_parl_detalhes = pd.read_csv(data_folder + \"df_parl_detalhes.csv\")\n",
    "df_legis_lideres = pd.read_csv(data_folder + \"df_legis_lideres.csv\")\n",
    "df_legis_mesa = pd.read_csv(data_folder + \"df_legis_mesa.csv\")\n",
    "df_cargos_externos = pd.read_csv(data_folder + \"df_cargos_externos.csv\")\n",
    "df_historico = pd.read_csv(data_folder + \"df_historico.csv\")\n",
    "df_pareceres = pd.read_csv(data_folder + \"df_pareceres.csv\")\n",
    "df_pareceres_detalhes = pd.read_csv(data_folder + \"df_pareceres_detalhes.csv\")\n",
    "df_orgaos_membros = pd.read_csv(data_folder + \"df_orgaos_membros.csv\")"
   ]
  },
  {
   "cell_type": "code",
   "execution_count": 3,
   "metadata": {},
   "outputs": [],
   "source": [
    "df_legislaturas[\"dataInicio\"] = pd.to_datetime(df_legislaturas[\"dataInicio\"])\n",
    "df_legislaturas[\"dataFim\"] = pd.to_datetime(df_legislaturas[\"dataFim\"])"
   ]
  },
  {
   "cell_type": "code",
   "execution_count": 4,
   "metadata": {},
   "outputs": [],
   "source": [
    "df_parlamentares_por_legislatura = df_parlamentares_por_legislatura[\n",
    "    [\"id\", \"nome\", \"idLegislatura\"]\n",
    "].drop_duplicates()"
   ]
  },
  {
   "cell_type": "markdown",
   "metadata": {},
   "source": [
    "# dimensão posição (mesa)"
   ]
  },
  {
   "cell_type": "code",
   "execution_count": 5,
   "metadata": {},
   "outputs": [],
   "source": [
    "columns = [\"id\", \"idLegislatura\", \"titulo\", \"codTitulo\"]\n",
    "group_columns = [\"id\", \"idLegislatura\", \"titulo\"]\n",
    "df_legis_g = df_legis_mesa[columns].groupby(group_columns).count().reset_index()"
   ]
  },
  {
   "cell_type": "code",
   "execution_count": 6,
   "metadata": {},
   "outputs": [],
   "source": [
    "posicao_mapper = {\n",
    "    \"2º Secretário\": \"mesa_2\",\n",
    "    \"Presidente\": \"mesa_1\",\n",
    "    \"1º Vice-Presidente\": \"mesa_2\",\n",
    "    \"1º Secretário\": \"mesa_2\",\n",
    "    \"3º Secretário\": \"mesa_2\",\n",
    "    \"4º Secretário\": \"mesa_2\",\n",
    "    \"2º Suplente de Secretário\": \"mesa_2\",\n",
    "    \"2º Vice-Presidente\": \"mesa_2\",\n",
    "    \"3º Suplente de Secretário\": \"mesa_2\",\n",
    "    \"4º Suplente de Secretário\": \"mesa_2\",\n",
    "    \"1º Suplente de Secretário\": \"mesa_2\",\n",
    "}\n",
    "\n",
    "df_legis_g[\"posicao\"] = df_legis_g[\"titulo\"].apply(lambda x: posicao_mapper.get(x))"
   ]
  },
  {
   "cell_type": "code",
   "execution_count": 7,
   "metadata": {},
   "outputs": [],
   "source": [
    "df_legis_final = df_legis_g.join(pd.get_dummies(df_legis_g[\"posicao\"]))\n",
    "# df_legis_final = df_legis_final[['id', 'idLegislatura', 'mesa_1', 'mesa_2']].reset_index(drop=True)\n",
    "df_legis_final = (\n",
    "    df_legis_final[[\"id\", \"idLegislatura\", \"mesa_1\", \"mesa_2\"]]\n",
    "    .groupby([\"id\", \"idLegislatura\"])\n",
    "    .sum()\n",
    "    .reset_index()\n",
    ")"
   ]
  },
  {
   "cell_type": "markdown",
   "metadata": {},
   "source": [
    "# dimensão posição (colégio de lideres)"
   ]
  },
  {
   "cell_type": "code",
   "execution_count": 8,
   "metadata": {},
   "outputs": [],
   "source": [
    "df_legis_lideres_final = (\n",
    "    df_legis_lideres[df_legis_lideres[\"titulo\"].isin([\"Líder\", \"Presidente\"])]\n",
    "    .drop_duplicates([\"parlamentar.id\", \"parlamentar.idLegislatura\", \"titulo\"])\n",
    "    .groupby([\"parlamentar.id\", \"parlamentar.idLegislatura\"])\n",
    "    .count()\n",
    "    .reset_index()\n",
    "    .rename(\n",
    "        {\n",
    "            \"parlamentar.id\": \"id\",\n",
    "            \"parlamentar.idLegislatura\": \"idLegislatura\",\n",
    "            \"titulo\": \"pos_lider\",\n",
    "        },\n",
    "        axis=1,\n",
    "    )[[\"id\", \"idLegislatura\", \"pos_lider\"]]\n",
    ")"
   ]
  },
  {
   "cell_type": "markdown",
   "metadata": {},
   "source": [
    "# dimensão presidencia de comissão"
   ]
  },
  {
   "cell_type": "code",
   "execution_count": 9,
   "metadata": {},
   "outputs": [],
   "source": [
    "pos_comissao_mapper = {\n",
    "    \"Coordenador\": \"pos_comiss_pr\",\n",
    "    \"Coordenadora\": \"pos_comiss_pr\",\n",
    "    \"Coordenador-Geral'\": \"pos_comiss_pr\",\n",
    "    \"Presidente\": \"pos_comiss_pr\",\n",
    "}"
   ]
  },
  {
   "cell_type": "code",
   "execution_count": 10,
   "metadata": {},
   "outputs": [],
   "source": [
    "df_orgaos_membros[\"titulo_trat\"] = df_orgaos_membros[\"titulo\"].apply(\n",
    "    lambda x: pos_comissao_mapper.get(x)\n",
    ")"
   ]
  },
  {
   "cell_type": "code",
   "execution_count": 11,
   "metadata": {},
   "outputs": [],
   "source": [
    "df_orgaos_membros_final = (\n",
    "    df_orgaos_membros[~df_orgaos_membros[\"titulo_trat\"].isnull()]\n",
    "    .drop_duplicates([\"id_org\", \"id\", \"idLegislatura\"])[\n",
    "        [\"id_org\", \"id\", \"idLegislatura\"]\n",
    "    ]\n",
    "    .groupby([\"id\", \"idLegislatura\"])\n",
    "    .count()\n",
    "    .reset_index()\n",
    "    .rename({\"id_org\": \"pos_comiss_pr\"}, axis=1)\n",
    ")"
   ]
  },
  {
   "cell_type": "markdown",
   "metadata": {},
   "source": [
    "# pareceres de relator"
   ]
  },
  {
   "cell_type": "code",
   "execution_count": 12,
   "metadata": {},
   "outputs": [],
   "source": [
    "df_pareceres_merge = df_pareceres[[\"id\", \"id_parl\"]].merge(\n",
    "    df_pareceres_detalhes, on=\"id\"\n",
    ")"
   ]
  },
  {
   "cell_type": "markdown",
   "metadata": {},
   "source": [
    "## encontrar legislatura por data de apresentação"
   ]
  },
  {
   "cell_type": "code",
   "execution_count": 13,
   "metadata": {},
   "outputs": [],
   "source": [
    "df_pareceres_merge[\"dataApresentacao\"] = pd.to_datetime(\n",
    "    df_pareceres_merge[\"dataApresentacao\"]\n",
    ")"
   ]
  },
  {
   "cell_type": "code",
   "execution_count": 14,
   "metadata": {},
   "outputs": [],
   "source": [
    "def find_legislatura(date):\n",
    "    legislatura = df_legislaturas[\n",
    "        (df_legislaturas[\"dataInicio\"] <= date) & (df_legislaturas[\"dataFim\"] >= date)\n",
    "    ]\n",
    "    if not legislatura.empty:\n",
    "        return int(legislatura.iloc[0][\"id\"])\n",
    "    return None"
   ]
  },
  {
   "cell_type": "code",
   "execution_count": 15,
   "metadata": {},
   "outputs": [],
   "source": [
    "df_pareceres_merge[\"idLegislatura\"] = df_pareceres_merge[\"dataApresentacao\"].apply(\n",
    "    find_legislatura\n",
    ")\n",
    "df_pareceres_merge[\"idLegislatura\"] = (\n",
    "    df_pareceres_merge[\"idLegislatura\"].fillna(-1).astype(\"int64\")\n",
    ")"
   ]
  },
  {
   "cell_type": "code",
   "execution_count": 16,
   "metadata": {},
   "outputs": [],
   "source": [
    "df_pareceres_final = (\n",
    "    df_pareceres_merge[[\"id\", \"id_parl\", \"idLegislatura\"]]\n",
    "    .groupby([\"id_parl\", \"idLegislatura\"])\n",
    "    .count()\n",
    "    .reset_index()\n",
    "    .rename({\"id\": \"relatorias\", \"id_parl\": \"id\"}, axis=1)\n",
    ")"
   ]
  },
  {
   "cell_type": "markdown",
   "metadata": {},
   "source": [
    "# mandatos externos"
   ]
  },
  {
   "cell_type": "code",
   "execution_count": 17,
   "metadata": {},
   "outputs": [],
   "source": [
    "df_legislaturas[\"dataInicioYear\"] = df_legislaturas[\"dataInicio\"].dt.year\n",
    "\n",
    "df_mandatos_externos = pd.merge(\n",
    "    df_parlamentares_por_legislatura,\n",
    "    df_legislaturas[[\"id\", \"dataInicioYear\"]],\n",
    "    left_on=\"idLegislatura\",\n",
    "    right_on=\"id\",\n",
    "    how=\"left\",\n",
    ")\n",
    "\n",
    "# Drop the extra 'id' column from the merge\n",
    "df_mandatos_externos.drop(columns=[\"id_y\"], inplace=True)\n",
    "df_mandatos_externos.rename(columns={\"id_x\": \"id\"}, inplace=True)\n",
    "\n",
    "# Step 2: Initialize the new columns\n",
    "df_mandatos_externos[\"mand_dep\"] = 0\n",
    "df_mandatos_externos[\"mand_ver\"] = 0\n",
    "df_mandatos_externos[\"mand_sen\"] = 0\n",
    "\n",
    "\n",
    "# Step 3: Define a function to update the columns based on conditions\n",
    "def update_dim_columns(row, df_cargos, df_legislaturas):\n",
    "    # Get the legislatura dataInicio year\n",
    "    leg_data_inicio = df_legislaturas.loc[\n",
    "        df_legislaturas[\"id\"] == row[\"idLegislatura\"], \"dataInicio\"\n",
    "    ].dt.year.values[0]\n",
    "\n",
    "    # Filter relevant cargos based on id and anoInicio < leg_data_inicio\n",
    "    relevant_cargos = df_cargos[\n",
    "        (df_cargos[\"id_parl\"] == row[\"id\"]) & (df_cargos[\"anoInicio\"] < leg_data_inicio)\n",
    "    ]\n",
    "\n",
    "    # Increment the corresponding columns based on cargo_trat\n",
    "    for _, cargo in relevant_cargos.iterrows():\n",
    "        if cargo[\"cargo_trat\"] == \"mand_dep\":\n",
    "            row[\"mand_dep\"] += (\n",
    "                cargo[\"anos_mandato\"] if cargo[\"anos_mandato\"] > 0 else 1\n",
    "            )\n",
    "        elif cargo[\"cargo_trat\"] == \"mand_ver\":\n",
    "            row[\"mand_ver\"] += (\n",
    "                cargo[\"anos_mandato\"] if cargo[\"anos_mandato\"] > 0 else 1\n",
    "            )\n",
    "        elif cargo[\"cargo_trat\"] == \"mand_sen\":\n",
    "            row[\"mand_sen\"] += (\n",
    "                cargo[\"anos_mandato\"] if cargo[\"anos_mandato\"] > 0 else 1\n",
    "            )\n",
    "\n",
    "    return row"
   ]
  },
  {
   "cell_type": "code",
   "execution_count": 18,
   "metadata": {},
   "outputs": [],
   "source": [
    "def find_mandato(x):\n",
    "    texto = x.lower()\n",
    "    if \"suplente\" in texto:\n",
    "        return None\n",
    "    elif \"deput\" in texto:\n",
    "        return \"dim_mand_dep\"\n",
    "    elif \"veread\" in texto:\n",
    "        return \"dim_mand_ver\"\n",
    "    elif \"senad\" in texto:\n",
    "        return \"dim_mand_sen\"\n",
    "    else:\n",
    "        return None\n",
    "    \n",
    "df_cargos_externos['cargo_trat'] = df_cargos_externos['cargo'].apply(lambda x: find_mandato(x))\n",
    "df_cargos_externos['anos_mandato'] = df_cargos_externos['anoFim'] - df_cargos_externos['anoInicio']"
   ]
  },
  {
   "cell_type": "code",
   "execution_count": 19,
   "metadata": {},
   "outputs": [],
   "source": [
    "df_cargos_externos_clean = df_cargos_externos[\n",
    "    ~df_cargos_externos[\"cargo_trat\"].isnull()\n",
    "]\n",
    "# Apply the function to each row\n",
    "df_mandatos_externos = df_mandatos_externos.apply(\n",
    "    update_dim_columns, axis=1, args=(df_cargos_externos_clean, df_legislaturas)\n",
    ")\n",
    "\n",
    "# Drop the 'dataInicioYear' column as it's no longer needed\n",
    "df_mandatos_externos.drop(columns=[\"dataInicioYear\", \"nome\"], inplace=True)"
   ]
  },
  {
   "cell_type": "code",
   "execution_count": null,
   "metadata": {},
   "outputs": [],
   "source": []
  },
  {
   "cell_type": "markdown",
   "metadata": {},
   "source": [
    "# dim fidelidade"
   ]
  },
  {
   "cell_type": "markdown",
   "metadata": {},
   "source": []
  },
  {
   "cell_type": "markdown",
   "metadata": {},
   "source": [
    "# merge dims"
   ]
  },
  {
   "cell_type": "code",
   "execution_count": 20,
   "metadata": {},
   "outputs": [],
   "source": [
    "df_final = (\n",
    "    df_parlamentares_por_legislatura\n",
    "    .merge(df_legis_final, on=[\"id\", \"idLegislatura\"], how=\"left\")\n",
    "    .merge(df_legis_lideres_final, on=[\"id\", \"idLegislatura\"], how=\"left\")\n",
    "    .merge(df_orgaos_membros_final, on=[\"id\", \"idLegislatura\"], how=\"left\")\n",
    "    .merge(df_pareceres_final, on=[\"id\", \"idLegislatura\"], how=\"left\")\n",
    "    .merge(df_mandatos_externos, on=[\"id\", \"idLegislatura\"], how=\"left\")\n",
    "    .fillna(0)\n",
    ")"
   ]
  },
  {
   "cell_type": "code",
   "execution_count": 21,
   "metadata": {},
   "outputs": [
    {
     "data": {
      "text/html": [
       "<div>\n",
       "<style scoped>\n",
       "    .dataframe tbody tr th:only-of-type {\n",
       "        vertical-align: middle;\n",
       "    }\n",
       "\n",
       "    .dataframe tbody tr th {\n",
       "        vertical-align: top;\n",
       "    }\n",
       "\n",
       "    .dataframe thead th {\n",
       "        text-align: right;\n",
       "    }\n",
       "</style>\n",
       "<table border=\"1\" class=\"dataframe\">\n",
       "  <thead>\n",
       "    <tr style=\"text-align: right;\">\n",
       "      <th></th>\n",
       "      <th>id</th>\n",
       "      <th>nome</th>\n",
       "      <th>idLegislatura</th>\n",
       "      <th>mesa_1</th>\n",
       "      <th>mesa_2</th>\n",
       "      <th>pos_lider</th>\n",
       "      <th>pos_comiss_pr</th>\n",
       "      <th>dim_rel</th>\n",
       "      <th>dim_mand_dep</th>\n",
       "      <th>dim_mand_ver</th>\n",
       "      <th>dim_mand_sen</th>\n",
       "    </tr>\n",
       "  </thead>\n",
       "  <tbody>\n",
       "    <tr>\n",
       "      <th>0</th>\n",
       "      <td>73909</td>\n",
       "      <td>0</td>\n",
       "      <td>52</td>\n",
       "      <td>0.0</td>\n",
       "      <td>0.0</td>\n",
       "      <td>0.0</td>\n",
       "      <td>0.0</td>\n",
       "      <td>22.0</td>\n",
       "      <td>0.0</td>\n",
       "      <td>0.0</td>\n",
       "      <td>0.0</td>\n",
       "    </tr>\n",
       "    <tr>\n",
       "      <th>1</th>\n",
       "      <td>73909</td>\n",
       "      <td>0</td>\n",
       "      <td>52</td>\n",
       "      <td>0.0</td>\n",
       "      <td>0.0</td>\n",
       "      <td>0.0</td>\n",
       "      <td>0.0</td>\n",
       "      <td>22.0</td>\n",
       "      <td>0.0</td>\n",
       "      <td>0.0</td>\n",
       "      <td>0.0</td>\n",
       "    </tr>\n",
       "    <tr>\n",
       "      <th>2</th>\n",
       "      <td>73984</td>\n",
       "      <td>0</td>\n",
       "      <td>52</td>\n",
       "      <td>0.0</td>\n",
       "      <td>0.0</td>\n",
       "      <td>0.0</td>\n",
       "      <td>0.0</td>\n",
       "      <td>1.0</td>\n",
       "      <td>4.0</td>\n",
       "      <td>0.0</td>\n",
       "      <td>0.0</td>\n",
       "    </tr>\n",
       "    <tr>\n",
       "      <th>3</th>\n",
       "      <td>73984</td>\n",
       "      <td>0</td>\n",
       "      <td>52</td>\n",
       "      <td>0.0</td>\n",
       "      <td>0.0</td>\n",
       "      <td>0.0</td>\n",
       "      <td>0.0</td>\n",
       "      <td>1.0</td>\n",
       "      <td>4.0</td>\n",
       "      <td>0.0</td>\n",
       "      <td>0.0</td>\n",
       "    </tr>\n",
       "    <tr>\n",
       "      <th>4</th>\n",
       "      <td>73764</td>\n",
       "      <td>ABELARDO LUPION</td>\n",
       "      <td>51</td>\n",
       "      <td>0.0</td>\n",
       "      <td>0.0</td>\n",
       "      <td>0.0</td>\n",
       "      <td>0.0</td>\n",
       "      <td>0.0</td>\n",
       "      <td>0.0</td>\n",
       "      <td>0.0</td>\n",
       "      <td>0.0</td>\n",
       "    </tr>\n",
       "    <tr>\n",
       "      <th>...</th>\n",
       "      <td>...</td>\n",
       "      <td>...</td>\n",
       "      <td>...</td>\n",
       "      <td>...</td>\n",
       "      <td>...</td>\n",
       "      <td>...</td>\n",
       "      <td>...</td>\n",
       "      <td>...</td>\n",
       "      <td>...</td>\n",
       "      <td>...</td>\n",
       "      <td>...</td>\n",
       "    </tr>\n",
       "    <tr>\n",
       "      <th>6647</th>\n",
       "      <td>160632</td>\n",
       "      <td>ZÉ SILVA</td>\n",
       "      <td>55</td>\n",
       "      <td>0.0</td>\n",
       "      <td>0.0</td>\n",
       "      <td>0.0</td>\n",
       "      <td>2.0</td>\n",
       "      <td>23.0</td>\n",
       "      <td>0.0</td>\n",
       "      <td>0.0</td>\n",
       "      <td>0.0</td>\n",
       "    </tr>\n",
       "    <tr>\n",
       "      <th>6648</th>\n",
       "      <td>178923</td>\n",
       "      <td>ZECA CAVALCANTI</td>\n",
       "      <td>55</td>\n",
       "      <td>0.0</td>\n",
       "      <td>0.0</td>\n",
       "      <td>0.0</td>\n",
       "      <td>1.0</td>\n",
       "      <td>9.0</td>\n",
       "      <td>0.0</td>\n",
       "      <td>0.0</td>\n",
       "      <td>0.0</td>\n",
       "    </tr>\n",
       "    <tr>\n",
       "      <th>6649</th>\n",
       "      <td>160592</td>\n",
       "      <td>ZECA DIRCEU</td>\n",
       "      <td>55</td>\n",
       "      <td>0.0</td>\n",
       "      <td>0.0</td>\n",
       "      <td>0.0</td>\n",
       "      <td>0.0</td>\n",
       "      <td>7.0</td>\n",
       "      <td>0.0</td>\n",
       "      <td>0.0</td>\n",
       "      <td>0.0</td>\n",
       "    </tr>\n",
       "    <tr>\n",
       "      <th>6650</th>\n",
       "      <td>178902</td>\n",
       "      <td>ZECA DO PT</td>\n",
       "      <td>55</td>\n",
       "      <td>0.0</td>\n",
       "      <td>0.0</td>\n",
       "      <td>0.0</td>\n",
       "      <td>0.0</td>\n",
       "      <td>11.0</td>\n",
       "      <td>0.0</td>\n",
       "      <td>0.0</td>\n",
       "      <td>0.0</td>\n",
       "    </tr>\n",
       "    <tr>\n",
       "      <th>6651</th>\n",
       "      <td>178949</td>\n",
       "      <td>ZENAIDE MAIA</td>\n",
       "      <td>55</td>\n",
       "      <td>0.0</td>\n",
       "      <td>0.0</td>\n",
       "      <td>0.0</td>\n",
       "      <td>0.0</td>\n",
       "      <td>30.0</td>\n",
       "      <td>0.0</td>\n",
       "      <td>0.0</td>\n",
       "      <td>0.0</td>\n",
       "    </tr>\n",
       "  </tbody>\n",
       "</table>\n",
       "<p>6652 rows × 11 columns</p>\n",
       "</div>"
      ],
      "text/plain": [
       "          id             nome  idLegislatura  mesa_1  mesa_2  pos_lider  \\\n",
       "0      73909                0             52     0.0     0.0        0.0   \n",
       "1      73909                0             52     0.0     0.0        0.0   \n",
       "2      73984                0             52     0.0     0.0        0.0   \n",
       "3      73984                0             52     0.0     0.0        0.0   \n",
       "4      73764  ABELARDO LUPION             51     0.0     0.0        0.0   \n",
       "...      ...              ...            ...     ...     ...        ...   \n",
       "6647  160632         ZÉ SILVA             55     0.0     0.0        0.0   \n",
       "6648  178923  ZECA CAVALCANTI             55     0.0     0.0        0.0   \n",
       "6649  160592      ZECA DIRCEU             55     0.0     0.0        0.0   \n",
       "6650  178902       ZECA DO PT             55     0.0     0.0        0.0   \n",
       "6651  178949     ZENAIDE MAIA             55     0.0     0.0        0.0   \n",
       "\n",
       "      pos_comiss_pr  dim_rel  dim_mand_dep  dim_mand_ver  dim_mand_sen  \n",
       "0               0.0     22.0           0.0           0.0           0.0  \n",
       "1               0.0     22.0           0.0           0.0           0.0  \n",
       "2               0.0      1.0           4.0           0.0           0.0  \n",
       "3               0.0      1.0           4.0           0.0           0.0  \n",
       "4               0.0      0.0           0.0           0.0           0.0  \n",
       "...             ...      ...           ...           ...           ...  \n",
       "6647            2.0     23.0           0.0           0.0           0.0  \n",
       "6648            1.0      9.0           0.0           0.0           0.0  \n",
       "6649            0.0      7.0           0.0           0.0           0.0  \n",
       "6650            0.0     11.0           0.0           0.0           0.0  \n",
       "6651            0.0     30.0           0.0           0.0           0.0  \n",
       "\n",
       "[6652 rows x 11 columns]"
      ]
     },
     "execution_count": 21,
     "metadata": {},
     "output_type": "execute_result"
    }
   ],
   "source": [
    "df_final"
   ]
  }
 ],
 "metadata": {
  "kernelspec": {
   "display_name": "Python 3",
   "language": "python",
   "name": "python3"
  },
  "language_info": {
   "codemirror_mode": {
    "name": "ipython",
    "version": 3
   },
   "file_extension": ".py",
   "mimetype": "text/x-python",
   "name": "python",
   "nbconvert_exporter": "python",
   "pygments_lexer": "ipython3",
   "version": "3.12.5"
  }
 },
 "nbformat": 4,
 "nbformat_minor": 2
}
