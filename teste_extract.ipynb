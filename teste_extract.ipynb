{
 "cells": [
  {
   "cell_type": "code",
   "execution_count": 36,
   "metadata": {},
   "outputs": [],
   "source": [
    "import os\n",
    "\n",
    "from concurrent.futures import ThreadPoolExecutor, as_completed\n",
    "from tqdm import tqdm\n",
    "\n",
    "\n",
    "from utils import api, endpoints\n",
    "\n",
    "import pandas as pd\n"
   ]
  },
  {
   "cell_type": "code",
   "execution_count": 32,
   "metadata": {},
   "outputs": [],
   "source": [
    "def parallel_execution(executable, iterator, max_workers = 10):\n",
    "    final = []\n",
    "    pbar = tqdm(range(0, len(iterator)))\n",
    "    with ThreadPoolExecutor(max_workers=max_workers) as executor:\n",
    "        futures = [executor.submit(executable, x) for x in iterator]\n",
    "        for future in as_completed(futures):\n",
    "            final += future.result()\n",
    "            pbar.update(1)\n",
    "    pbar.close()\n",
    "    return final\n",
    "\n",
    "def get_legislatura_lideres(id_):\n",
    "    url = api.construct_url(api.HOST, endpoints.LEGISLATURA_LIDERES.format(id=id_))\n",
    "    resp = api.request(url)\n",
    "    return resp\n",
    "\n",
    "\n",
    "def get_legislatura_mesa(id_):\n",
    "    url = api.construct_url(api.HOST, endpoints.LEGISLATURA_MESA.format(id=id_))\n",
    "    resp = api.request(url)\n",
    "    return resp\n",
    "\n",
    "\n",
    "def get_parlamentares_por_legislatura(id_legis):\n",
    "    url = api.construct_url(api.HOST,endpoints.PARLAMENTARES, {'idLegislatura': id_legis})\n",
    "    parls = api.request(url)\n",
    "    return parls\n",
    "\n",
    "def get_parlamentare_detalhes(id_parl):\n",
    "    url = api.construct_url(api.HOST, endpoints.PARLAMENTARES_DETALHES.format(id_parl=id_parl))\n",
    "    resp = api.request(url)\n",
    "    return resp\n",
    "\n",
    "def get_parlamentare_mandatos_externos(id_parl):\n",
    "    url = api.construct_url(api.HOST, endpoints.PARLAMENTARES_MANDATOS_EXTERNOS.format(id_parl=id_parl))\n",
    "    resp = api.request(url)\n",
    "    final = [{\"id_parl\": id_parl, **r} for r in resp]\n",
    "    return final\n",
    "\n",
    "def get_parlamentare_historico(id_parl):\n",
    "    url = api.construct_url(api.HOST, endpoints.PARLAMENTARES_HISTORICO.format(id_parl=id_parl))\n",
    "    resp = api.request(url)\n",
    "    return resp"
   ]
  },
  {
   "cell_type": "code",
   "execution_count": 20,
   "metadata": {},
   "outputs": [],
   "source": [
    "LEGISLATURAS = range(48,58)"
   ]
  },
  {
   "cell_type": "markdown",
   "metadata": {},
   "source": [
    "## 1.1) Parlamentares"
   ]
  },
  {
   "cell_type": "code",
   "execution_count": 12,
   "metadata": {},
   "outputs": [
    {
     "name": "stderr",
     "output_type": "stream",
     "text": [
      "100%|██████████| 10/10 [00:14<00:00,  1.40s/it]\n"
     ]
    }
   ],
   "source": [
    "parlamentares = parallel_execution(get_parlamentares_por_legislatura, LEGISLATURAS)\n",
    "df_parlamentares = pd.DataFrame(parlamentares)\n",
    "df_parlamentares.to_excel('./data/df_parlamentares_por_legislatura.xlsx', index=False)"
   ]
  },
  {
   "cell_type": "code",
   "execution_count": 34,
   "metadata": {},
   "outputs": [],
   "source": [
    "ids = df_parlamentares['id'].unique()"
   ]
  },
  {
   "cell_type": "markdown",
   "metadata": {},
   "source": [
    "## 1.1.1) parlamentares detalhes"
   ]
  },
  {
   "cell_type": "code",
   "execution_count": 16,
   "metadata": {},
   "outputs": [],
   "source": [
    "parl_detalhes = parallel_execution(get_parlamentare_detalhes, ids)\n",
    "df_parl_detalhes = pd.DataFrame(parl_detalhes)\n",
    "df_parl_detalhes.to_excel('./data/df_parl_detalhes.xlsx')"
   ]
  },
  {
   "cell_type": "markdown",
   "metadata": {},
   "source": [
    "## 1.2) Líderes"
   ]
  },
  {
   "cell_type": "code",
   "execution_count": 7,
   "metadata": {},
   "outputs": [
    {
     "name": "stderr",
     "output_type": "stream",
     "text": [
      "100%|██████████| 10/10 [03:41<00:00, 22.11s/it]\n"
     ]
    }
   ],
   "source": [
    "legis_lideres = parallel_execution(get_legislatura_lideres, LEGISLATURAS)\n",
    "df_legis_lideres = pd.DataFrame(legis_lideres)\n",
    "df_legis_lideres.to_excel('./data/df_legis_lideres.xlsx', index=False)"
   ]
  },
  {
   "cell_type": "markdown",
   "metadata": {},
   "source": [
    "## 1.3) Mesa"
   ]
  },
  {
   "cell_type": "code",
   "execution_count": 33,
   "metadata": {},
   "outputs": [
    {
     "name": "stderr",
     "output_type": "stream",
     "text": [
      "100%|██████████| 10/10 [00:01<00:00,  5.03it/s]\n"
     ]
    }
   ],
   "source": [
    "legis_mesa = parallel_execution(get_legislatura_mesa, LEGISLATURAS)\n",
    "df_legis_mesa = pd.DataFrame(legis_mesa)\n",
    "df_legis_mesa.to_excel('./data/df_legis_mesa.xlsx', index=False)"
   ]
  },
  {
   "cell_type": "markdown",
   "metadata": {},
   "source": [
    "# 2) Mandatos externos"
   ]
  },
  {
   "cell_type": "code",
   "execution_count": 12,
   "metadata": {},
   "outputs": [
    {
     "name": "stderr",
     "output_type": "stream",
     "text": [
      "Baixando mandatos externos dos parlamentares: 100%|██████████| 10/10 [00:01<00:00,  9.18it/s]\n"
     ]
    }
   ],
   "source": [
    "cargos_externos = parallel_execution(get_parlamentare_mandatos_externos, ids)\n",
    "df_cargos_externos = pd.DataFrame(cargos_externos)\n",
    "df_cargos_externos.to_excel('./data/df_cargos_externos.xlsx', index=False)"
   ]
  },
  {
   "cell_type": "markdown",
   "metadata": {},
   "source": [
    "# 3) Afastamentos por parlamentar"
   ]
  },
  {
   "cell_type": "code",
   "execution_count": 22,
   "metadata": {},
   "outputs": [
    {
     "name": "stderr",
     "output_type": "stream",
     "text": [
      "Baixando mandatos externos dos parlamentares: 100%|██████████| 10/10 [00:01<00:00,  8.01it/s]\n"
     ]
    }
   ],
   "source": [
    "historico = parallel_execution(get_parlamentare_historico, ids)\n",
    "df_historico = pd.DataFrame(historico)\n",
    "df_historico.to_excel('./data/df_historico.xlsx', index=False)"
   ]
  },
  {
   "cell_type": "markdown",
   "metadata": {},
   "source": [
    "#"
   ]
  },
  {
   "cell_type": "markdown",
   "metadata": {},
   "source": [
    "# Relatorias por parlamentar"
   ]
  },
  {
   "cell_type": "markdown",
   "metadata": {},
   "source": []
  }
 ],
 "metadata": {
  "kernelspec": {
   "display_name": "Python 3",
   "language": "python",
   "name": "python3"
  },
  "language_info": {
   "codemirror_mode": {
    "name": "ipython",
    "version": 3
   },
   "file_extension": ".py",
   "mimetype": "text/x-python",
   "name": "python",
   "nbconvert_exporter": "python",
   "pygments_lexer": "ipython3",
   "version": "3.12.5"
  }
 },
 "nbformat": 4,
 "nbformat_minor": 2
}
